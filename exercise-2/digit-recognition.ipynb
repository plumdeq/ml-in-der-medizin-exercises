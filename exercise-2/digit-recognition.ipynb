{
 "cells": [
  {
   "cell_type": "markdown",
   "metadata": {},
   "source": [
    "# Practical exercise 2\n",
    "\n",
    "*authors: Asan Agibetov, Georg Dorffner*\n",
    "\n",
    "In this exercise you will learn how to use Convolutional Neural Networks (CNNs), and build a simple handwritten digit recognition system based on CNN. The acquired knowledge in this exercise will also be important for the next exercise, where you will build a CNN for the recognition of medical images."
   ]
  },
  {
   "cell_type": "markdown",
   "metadata": {},
   "source": [
    "## Package imports and global settings"
   ]
  },
  {
   "cell_type": "code",
   "execution_count": 1,
   "metadata": {},
   "outputs": [],
   "source": [
    "import torch\n",
    "import torch.nn as nn\n",
    "import torchvision.datasets as dsets\n",
    "import torchvision.transforms as transforms\n",
    "from torch.autograd import Variable\n",
    "import matplotlib.pyplot as plt\n",
    "import math\n",
    "import itertools as it"
   ]
  },
  {
   "cell_type": "code",
   "execution_count": 2,
   "metadata": {},
   "outputs": [
    {
     "name": "stdout",
     "output_type": "stream",
     "text": [
      "Populating the interactive namespace from numpy and matplotlib\n"
     ]
    }
   ],
   "source": [
    "%pylab inline"
   ]
  },
  {
   "cell_type": "markdown",
   "metadata": {},
   "source": [
    "## Data preparation\n",
    "\n",
    "We will be using the [MNIST database of handwritten digits](http://yann.lecun.com/exdb/mnist/) to demonstrate the application of convolutional neural networks. Pytorch has a related package - `torchvision`, which contains a set of convenience functions to prepare the commonly used datasets. In particular we will use `torchvision.datasets.MNIST` callable which will prepare MNIST data for us."
   ]
  },
  {
   "cell_type": "code",
   "execution_count": 3,
   "metadata": {},
   "outputs": [],
   "source": [
    "# Hyper Parameters\n",
    "num_epochs = 10\n",
    "batch_size = 100\n",
    "learning_rate = 0.001\n",
    "\n",
    "train_dataset = torch.load(\"./data/train.limited.pt\")\n",
    "test_dataset = torch.load(\"./data/test.limited.pt\")"
   ]
  },
  {
   "cell_type": "markdown",
   "metadata": {},
   "source": [
    "Due to the size and computational resource limitation imposed by Microsfot Azure Cloud platform for the free accounts, we will only use a fraction of available images both during training and testing. If you are preparing these exercises on your local machine, and have enough computational resources (any modern i5/i7 Intel CPU (or equivalent) machine), you could (and maybe you should) use the full dataset. \n",
    "\n",
    "*Contact your instructors for the full dataset.*"
   ]
  },
  {
   "cell_type": "markdown",
   "metadata": {},
   "source": [
    "`torchvision.datasets.*` give us access to the raw (pixel intensities) and processed data (tensor representation). Having access to the tensor representation of images, we can now build *input pipeliens* for the CNNs which will load data in *batches*. We need the batch loading functionality for the *mini-batch stocastic optimization*. These pipelines are implemented in `torch.utils.data.DataLoader` class, which loads mini-batches (random samples) of our data in parallalel."
   ]
  },
  {
   "cell_type": "code",
   "execution_count": 4,
   "metadata": {},
   "outputs": [],
   "source": [
    "# Data Loader (Input Pipeline)\n",
    "train_loader = torch.utils.data.DataLoader(dataset=train_dataset,\n",
    "                                           batch_size=batch_size,\n",
    "                                           shuffle=True)\n",
    "\n",
    "test_loader = torch.utils.data.DataLoader(dataset=test_dataset,\n",
    "                                          batch_size=batch_size,\n",
    "                                          shuffle=False)"
   ]
  },
  {
   "cell_type": "markdown",
   "metadata": {},
   "source": [
    "The dataset is split into *train* and *test* subsets, each element of either dataset contains one $28 \\times 28$ image with labels, which we need to predict from image data."
   ]
  },
  {
   "cell_type": "code",
   "execution_count": 5,
   "metadata": {},
   "outputs": [
    {
     "name": "stdout",
     "output_type": "stream",
     "text": [
      "torch.Size([1, 28, 28])\n",
      "5\n"
     ]
    },
    {
     "data": {
      "text/plain": [
       "<matplotlib.image.AxesImage at 0x7f90cec35278>"
      ]
     },
     "execution_count": 5,
     "metadata": {},
     "output_type": "execute_result"
    },
    {
     "data": {
      "image/png": "[encoded data removed]",
      "text/plain": [
       "<matplotlib.figure.Figure at 0x7f9144c52e48>"
      ]
     },
     "metadata": {},
     "output_type": "display_data"
    }
   ],
   "source": [
    "img, label = train_dataset[0]\n",
    "print(img.shape)\n",
    "print(label)\n",
    "plt.imshow(img.squeeze().numpy())"
   ]
  },
  {
   "cell_type": "code",
   "execution_count": 6,
   "metadata": {},
   "outputs": [
    {
     "name": "stdout",
     "output_type": "stream",
     "text": [
      "torch.Size([1, 28, 28])\n",
      "7\n"
     ]
    },
    {
     "data": {
      "text/plain": [
       "<matplotlib.image.AxesImage at 0x7f90cec1e780>"
      ]
     },
     "execution_count": 6,
     "metadata": {},
     "output_type": "execute_result"
    },
    {
     "data": {
      "image/png": "[encoded data removed]",
      "text/plain": [
       "<matplotlib.figure.Figure at 0x7f9140395e10>"
      ]
     },
     "metadata": {},
     "output_type": "display_data"
    }
   ],
   "source": [
    "img, label = test_dataset[0]\n",
    "print(img.shape)\n",
    "print(label)\n",
    "plt.imshow(img.squeeze().numpy())"
   ]
  },
  {
   "cell_type": "markdown",
   "metadata": {},
   "source": [
    "Since we are limiting the number of samples of the original dataset (we pick a subset at random), we might have imbalanced classes, i.e., some classes might have much more samples than other. Below we simply count the number of images (samples) in each subset (train and test), make sure that the classes are \"balanced\", otherwise re-run the cells in the *Data preparation* section untill you get balanced classes."
   ]
  },
  {
   "cell_type": "code",
   "execution_count": 7,
   "metadata": {},
   "outputs": [
    {
     "name": "stdout",
     "output_type": "stream",
     "text": [
      "Counter({7: 117, 1: 116, 4: 105, 9: 100, 2: 99, 0: 97, 6: 94, 3: 93, 5: 92, 8: 87})\n",
      "Counter({1: 28, 4: 28, 7: 24, 9: 21, 5: 20, 6: 20, 0: 17, 2: 16, 3: 16, 8: 10})\n"
     ]
    }
   ],
   "source": [
    "from collections import Counter\n",
    "\n",
    "tr_labels = [y for x, y in train_dataset]\n",
    "te_labels = [y for x, y in test_dataset]\n",
    "print(Counter(tr_labels))\n",
    "print(Counter(te_labels))"
   ]
  },
  {
   "cell_type": "markdown",
   "metadata": {},
   "source": [
    "## Convolutional Neural Network"
   ]
  },
  {
   "cell_type": "markdown",
   "metadata": {},
   "source": [
    "We finally come to the central part of this exercise - the definition of a CNN. As you can see, a CNN is defined as a `pytorch` module consisting of *convolutional, maxpooling* and non-linear activation layers as you saw in lecture. In particular,\n",
    "\n",
    "* `nn.Conv2D(n, m, kernel_size=k)` will take *n* 2d signals (images) and produce *m* 2d signals (filters) by convolving each of the *n* signals with a kernel (sliding window) of a size $k \\times k$. Note that each of the *m* produced filters will have the dimension *N - k + 1*, where $N \\times N$ is the dimension of the input 2d signal.\n",
    "* `MaxPool2D(h)` will take the maximum value in the previous layer (usually on the produced filter images) in the $h \\times h$ region. You should understand that the *maxpooling* layer will produce the output 2d signal of dimenions $\\frac{M}{h} \\times \\frac{M}{h}$, where $M \\times M$ - the size of the filter on which we perform *maxpooling*.\n",
    "* `BatchNorm(m)` is a layer which is goind to normalize all values for the current batch, to avoid the problem of the vanishing gradients (i.e., it will make sure that the *learning* is not slowed down by the neurons with close to zero activations)\n",
    "\n",
    "The convolutional pipeline of a CNN is succeded by the *classification* pipeline, consisting of *fully connected* layers (one or many). In particular, the fully connected layer will have to take as input the unwrapped 1d vector representation of the output of the convolution pipeline. You will have to manually determine the final dimensions of the fully connected layers. For instance, if the final layer in the convolution pipeline (usually a pooling layer) produced a 2d output of $\\frac{M}{h} \\times \\frac{M}{h}$ dimensions, then the fully connected layer will map $\\mathbb{R}^{\\frac{M}{h} * \\frac{M}{h}} \\mapsto C$, where $C$ is the number of final categories (e.g., $C=2$ for binary classifications)."
   ]
  },
  {
   "cell_type": "code",
   "execution_count": 8,
   "metadata": {},
   "outputs": [],
   "source": [
    "# CNN Model (2 conv layer)\n",
    "class CNN(nn.Module):\n",
    "    def __init__(self):\n",
    "        super(CNN, self).__init__()\n",
    "        self.layer1 = nn.Sequential(\n",
    "            # nn.Conv2d(1, 16, kernel_size=5, padding=2),\n",
    "            nn.Conv2d(1, 16, kernel_size=5),\n",
    "            nn.BatchNorm2d(16),\n",
    "            nn.ReLU(),\n",
    "            nn.MaxPool2d(2))\n",
    "        self.layer2 = nn.Sequential(\n",
    "            # nn.Conv2d(16, 32, kernel_size=5, padding=2),\n",
    "            nn.Conv2d(16, 32, kernel_size=5),\n",
    "            nn.BatchNorm2d(32),\n",
    "            nn.ReLU(),\n",
    "            nn.MaxPool2d(2))\n",
    "        # self.fc = nn.Linear(7*7*32, 10) \n",
    "        self.fc = nn.Linear(4*4*32, 10)\n",
    "    \n",
    "    def forward(self, x): \n",
    "        out = self.layer1(x)\n",
    "        out = self.layer2(out)\n",
    "        out = out.view(out.size(0), -1) \n",
    "        out = self.fc(out)\n",
    "        return out \n",
    "    \n",
    "cnn = CNN()"
   ]
  },
  {
   "cell_type": "markdown",
   "metadata": {},
   "source": [
    "### Exercise 2.1\n",
    "\n",
    "Here, we start with images of $28 \\times 28$ dimensions, and finally have a fully connected layer which maps vectors in $\\mathbf{R}^{4*4*28}$ to $C=10$ (10 categories for 0-9 digits). Explain the derivation of the final size of the fully connected layer from the input images with the formulas provided for the convolutional and pooling layers above."
   ]
  },
  {
   "cell_type": "markdown",
   "metadata": {},
   "source": [
    "### Exercise 2.2\n",
    "\n",
    "What would be the size of the fully connected layer after a convolution pipeline consisting of\n",
    "\n",
    "1. `nn.Conv2d(1, 16, kernel_size=7)` with $7 \\times 7$ kernel\n",
    "2. `nn.MaxPool2d(4)`\n",
    "1. `nn.Conv2d(16, 32, kernel_size=5)` with $5 \\times 5$ kernel\n",
    "2. `nn.MaxPool2d(2)`\n",
    "\n",
    "applied to images of dimensions $64 \\times 64$?"
   ]
  },
  {
   "cell_type": "markdown",
   "metadata": {},
   "source": [
    "### Training and evaluation"
   ]
  },
  {
   "cell_type": "markdown",
   "metadata": {},
   "source": [
    "Below we train our CNN with stochastic mini-batch gradient descent. Note that we are only training for 10 epochs due to resource limitations, try to train for more epochs (try to get the loss error go to zero as much as possible) if you are doing these exercises on a local machine."
   ]
  },
  {
   "cell_type": "code",
   "execution_count": 9,
   "metadata": {},
   "outputs": [
    {
     "name": "stdout",
     "output_type": "stream",
     "text": [
      "Epoch [1/10], Iter [5/10] Loss: 1.9762\n",
      "Epoch [1/10], Iter [10/10] Loss: 1.7391\n",
      "Epoch [2/10], Iter [5/10] Loss: 1.3475\n",
      "Epoch [2/10], Iter [10/10] Loss: 1.2153\n",
      "Epoch [3/10], Iter [5/10] Loss: 0.8577\n",
      "Epoch [3/10], Iter [10/10] Loss: 0.7884\n",
      "Epoch [4/10], Iter [5/10] Loss: 0.7561\n",
      "Epoch [4/10], Iter [10/10] Loss: 0.4456\n",
      "Epoch [5/10], Iter [5/10] Loss: 0.4028\n",
      "Epoch [5/10], Iter [10/10] Loss: 0.4109\n",
      "Epoch [6/10], Iter [5/10] Loss: 0.3247\n",
      "Epoch [6/10], Iter [10/10] Loss: 0.3713\n",
      "Epoch [7/10], Iter [5/10] Loss: 0.3162\n",
      "Epoch [7/10], Iter [10/10] Loss: 0.2503\n",
      "Epoch [8/10], Iter [5/10] Loss: 0.2389\n",
      "Epoch [8/10], Iter [10/10] Loss: 0.2138\n",
      "Epoch [9/10], Iter [5/10] Loss: 0.1690\n",
      "Epoch [9/10], Iter [10/10] Loss: 0.2056\n",
      "Epoch [10/10], Iter [5/10] Loss: 0.1875\n",
      "Epoch [10/10], Iter [10/10] Loss: 0.2092\n"
     ]
    }
   ],
   "source": [
    "# Loss and Optimizer\n",
    "criterion = nn.CrossEntropyLoss()\n",
    "optimizer = torch.optim.Adam(cnn.parameters(), lr=learning_rate)\n",
    "\n",
    "# Train the Model\n",
    "for epoch in range(num_epochs):\n",
    "    for i, (images, labels) in enumerate(train_loader):\n",
    "        images = Variable(images)\n",
    "        labels = Variable(labels)\n",
    "\n",
    "        # Forward + Backward + Optimize\n",
    "        optimizer.zero_grad()\n",
    "        outputs = cnn(images)\n",
    "        loss = criterion(outputs, labels)\n",
    "        loss.backward()\n",
    "        optimizer.step()\n",
    "\n",
    "        if (i+1) % 5 == 0:\n",
    "            print ('Epoch [%d/%d], Iter [%d/%d] Loss: %.4f'\n",
    "                   %(epoch+1, num_epochs, i+1, len(train_dataset)//batch_size, loss.data[0]))"
   ]
  },
  {
   "cell_type": "markdown",
   "metadata": {},
   "source": [
    "Finally, we evaluate the *accuracy* of the CNN on the test dataset."
   ]
  },
  {
   "cell_type": "code",
   "execution_count": 10,
   "metadata": {},
   "outputs": [
    {
     "name": "stdout",
     "output_type": "stream",
     "text": [
      "Test Accuracy of the model on the 200 test images: 97 %\n"
     ]
    }
   ],
   "source": [
    "# Test the Model\n",
    "cnn.eval()  # Change model to 'eval' mode (BN uses moving mean/var).\n",
    "correct = 0\n",
    "total = 0\n",
    "for images, labels in test_loader:\n",
    "    images = Variable(images)\n",
    "    outputs = cnn(images)\n",
    "    _, predicted = torch.max(outputs.data, 1)\n",
    "    total += labels.size(0)\n",
    "    correct += (predicted == labels).sum()\n",
    "\n",
    "print('Test Accuracy of the model on the %d test images: %d %%' % (len(test_dataset), 100 * correct / total))"
   ]
  },
  {
   "cell_type": "markdown",
   "metadata": {},
   "source": [
    "### Exercise 2.3\n",
    "\n",
    "Try to train *deeper* CNNs, make sure that compute the dimensions of the layers appropriately as you continuously downsample images (as a result of convolutions and maxpoling). Report differences with the provided CNN: convergence rate, i.e., time it takes to reduce loss error close to $0$ (within epsilon), contrast the plots of loss errors, compare test accuracy of the models."
   ]
  }
 ],
 "metadata": {
  "kernelspec": {
   "display_name": "Python 3",
   "language": "python",
   "name": "python3"
  },
  "language_info": {
   "codemirror_mode": {
    "name": "ipython",
    "version": 3
   },
   "file_extension": ".py",
   "mimetype": "text/x-python",
   "name": "python",
   "nbconvert_exporter": "python",
   "pygments_lexer": "ipython3",
   "version": "3.5.2"
  }
 },
 "nbformat": 4,
 "nbformat_minor": 2
}
